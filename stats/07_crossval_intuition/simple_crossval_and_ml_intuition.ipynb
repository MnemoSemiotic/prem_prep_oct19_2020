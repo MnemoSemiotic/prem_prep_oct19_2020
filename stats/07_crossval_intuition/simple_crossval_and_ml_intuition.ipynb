{
 "cells": [
  {
   "cell_type": "code",
   "execution_count": 1,
   "metadata": {},
   "outputs": [],
   "source": [
    "import warnings\n",
    "warnings.filterwarnings('ignore')"
   ]
  },
  {
   "cell_type": "markdown",
   "metadata": {},
   "source": [
    "# Markdown\n",
    "* a document formatting approach that makes writing documentation (or anything) pretty easy\n",
    "* can do markdown outside of jupyter\n",
    "    * filename `somefile.md`\n",
    "* you can make code cells\n",
    "\n",
    "```python\n",
    "def example_function(x):\n",
    "    return f'I am {x}'\n",
    "```\n",
    "\n"
   ]
  },
  {
   "cell_type": "markdown",
   "metadata": {},
   "source": [
    "# Machine Learning Issues\n",
    "\n",
    "![xkcd_curve_fitting.png](images/xkcd_curve_fitting.png)"
   ]
  },
  {
   "cell_type": "markdown",
   "metadata": {},
   "source": [
    "# Let's consider a scatterplot\n",
    "* at differing levels of complexity\n",
    "    * complexity can refer to number of features, width of a matrix, etc\n",
    "    * complexity here just means order of a polynomial\n",
    "    \n",
    "$$\n",
    "f(x) = ax^4 + bx^3 + cx^2 + dx + C\n",
    "$$"
   ]
  },
  {
   "cell_type": "code",
   "execution_count": 3,
   "metadata": {},
   "outputs": [
    {
     "name": "stdout",
     "output_type": "stream",
     "text": [
      "[1.03459577e+01 1.89392521e+01 1.53091952e+01 5.64791688e+00\n",
      " 4.42090727e+00 1.37244417e+01 3.34278406e+00 7.84884933e+00\n",
      " 1.23610469e+01 8.23860190e+00 4.92976240e-02 1.76806436e+01\n",
      " 1.76989508e+01 6.00819379e+00 1.17916373e+01 1.95685383e+01\n",
      " 1.69018764e+01 1.30150878e+00 5.89488929e+00 5.75868882e+00\n",
      " 1.64493268e+01 1.25236608e+01 2.20955428e+00 1.05762234e-02\n",
      " 1.88433247e+01 2.83001515e+00 8.43193052e+00 6.92978880e+00\n",
      " 1.73957017e+01 8.57203625e+00 1.65750297e+01 1.43570368e+01\n",
      " 2.38453388e+00 1.19276835e+01 2.59512595e+00 1.55068183e+00\n",
      " 1.66241051e+01 9.28771230e+00 3.24024958e+00 1.09595058e+01\n",
      " 1.17697164e+01 1.54722634e+01 1.31169092e+01 1.11541352e+01\n",
      " 3.56494533e+00 4.81167062e+00 1.01210926e+01 7.93491398e+00\n",
      " 9.66110371e+00 1.91147968e+01]\n"
     ]
    }
   ],
   "source": [
    "import numpy as np\n",
    "import matplotlib.pyplot as plt\n",
    "\n",
    "def plot_scatter_fit(num_samps=50, fit_complexity=1, degree=1):\n",
    "    N = num_samps\n",
    "    \n",
    "    np.random.seed(seed=23)\n",
    "    \n",
    "    # gen rand x vals\n",
    "    x = np.random.rand(N)*20\n",
    "    \n",
    "    \n",
    "    # define polynomial\n",
    "    if degree == 1:\n",
    "        y = 5*x + 3\n",
    "    elif degree == 2:\n",
    "        y = 3*x**2 + 5*x + 3\n",
    "    elif degree == 3:\n",
    "        y = -0.2*x**3 + 3*x**2 + 5*x + 3\n",
    "    elif degree == 4:\n",
    "        y = 0.006*x**4 + -0.2*x**3 + 3*x**2 + 5*x + 3\n",
    "\n",
    "\n",
    "    # help us draw a fit line\n",
    "    fit = np.polyfit(x, y, 1)\n",
    "    fit_fn = np.poly1d(fit)\n",
    "    \n",
    "    \n",
    "    # get scatter range\n",
    "    \n",
    "\n",
    "\n",
    "plot_scatter_fit(num_samps=50, fit_complexity=1, degree=1)"
   ]
  },
  {
   "cell_type": "code",
   "execution_count": null,
   "metadata": {},
   "outputs": [],
   "source": []
  },
  {
   "cell_type": "code",
   "execution_count": null,
   "metadata": {},
   "outputs": [],
   "source": []
  },
  {
   "cell_type": "code",
   "execution_count": null,
   "metadata": {},
   "outputs": [],
   "source": []
  },
  {
   "cell_type": "code",
   "execution_count": null,
   "metadata": {},
   "outputs": [],
   "source": []
  },
  {
   "cell_type": "code",
   "execution_count": null,
   "metadata": {},
   "outputs": [],
   "source": []
  },
  {
   "cell_type": "code",
   "execution_count": null,
   "metadata": {},
   "outputs": [],
   "source": []
  }
 ],
 "metadata": {
  "kernelspec": {
   "display_name": "Python 3",
   "language": "python",
   "name": "python3"
  },
  "language_info": {
   "codemirror_mode": {
    "name": "ipython",
    "version": 3
   },
   "file_extension": ".py",
   "mimetype": "text/x-python",
   "name": "python",
   "nbconvert_exporter": "python",
   "pygments_lexer": "ipython3",
   "version": "3.8.3"
  }
 },
 "nbformat": 4,
 "nbformat_minor": 4
}
