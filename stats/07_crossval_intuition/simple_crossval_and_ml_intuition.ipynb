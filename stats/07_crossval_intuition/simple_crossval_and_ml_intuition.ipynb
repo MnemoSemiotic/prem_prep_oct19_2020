{
 "cells": [
  {
   "cell_type": "code",
   "execution_count": 1,
   "metadata": {},
   "outputs": [],
   "source": [
    "import warnings\n",
    "warnings.filterwarnings('ignore')"
   ]
  },
  {
   "cell_type": "markdown",
   "metadata": {},
   "source": [
    "# Markdown\n",
    "* a document formatting approach that makes writing documentation (or anything) pretty easy\n",
    "* can do markdown outside of jupyter\n",
    "    * filename `somefile.md`\n",
    "* you can make code cells\n",
    "\n",
    "```python\n",
    "def example_function(x):\n",
    "    return f'I am {x}'\n",
    "```\n",
    "\n"
   ]
  },
  {
   "cell_type": "markdown",
   "metadata": {},
   "source": [
    "# Machine Learning Issues\n",
    "\n",
    "![xkcd_curve_fitting.png](images/xkcd_curve_fitting.png)"
   ]
  },
  {
   "cell_type": "markdown",
   "metadata": {},
   "source": [
    "# Let's consider a scatterplot\n",
    "* at differing levels of complexity\n",
    "    * complexity can refer to number of features, width of a matrix, etc\n",
    "    * complexity here just means order of a polynomial\n",
    "    \n",
    "$$\n",
    "f(x) = ax^4 + bx^3 + cx^2 + dx + C\n",
    "$$"
   ]
  },
  {
   "cell_type": "code",
   "execution_count": 4,
   "metadata": {},
   "outputs": [
    {
     "name": "stdout",
     "output_type": "stream",
     "text": [
      "[54.86104438520689, 106.84884775981874, 83.6592369620516, 35.26480506429657, 24.407061017614808, 71.17787533354355, 29.89272451347685, 41.324682758410034, 60.68980968179408, 38.79512377100393, 2.062277493713645, 93.26260698369234, 96.50293571507763, 34.32728110932617, 58.71530894841513, 84.87961709957827, 93.56368699688853, -0.19881628364814574, 30.896643212933675, 43.453943448548756, 87.69858190029016, 57.661965931295185, 20.92849353558345, 0.4307242200282575, 92.4976832890492, 29.32109807150527, 51.77865487373469, 68.8194723786878, 79.41168618225345, 45.96021338027418, 90.15667657971397, 87.76959382408124, 12.466726921358836, 78.21741590211985, 17.64605289098964, 3.8176287049534636, 84.81968061406893, 49.26882829568527, 18.212662216187955, 52.28179638090061, 60.097796492376965, 90.24844202658008, 77.59094662423539, 77.67432480090602, 13.046884812863123, 17.166569603102296, 74.63789956413586, 46.83200670546408, 55.61953077146252, 90.58026042313593]\n"
     ]
    }
   ],
   "source": [
    "import numpy as np\n",
    "import matplotlib.pyplot as plt\n",
    "\n",
    "def plot_scatter_fit(num_samps=50, fit_complexity=1, degree=1):\n",
    "    N = num_samps\n",
    "    \n",
    "    np.random.seed(seed=23)\n",
    "    \n",
    "    # gen rand x vals\n",
    "    x = np.random.rand(N)*20\n",
    "    \n",
    "    \n",
    "    # define polynomial\n",
    "    if degree == 1:\n",
    "        y = 5*x + 3\n",
    "    elif degree == 2:\n",
    "        y = 3*x**2 + 5*x + 3\n",
    "    elif degree == 3:\n",
    "        y = -0.2*x**3 + 3*x**2 + 5*x + 3\n",
    "    elif degree == 4:\n",
    "        y = 0.006*x**4 + -0.2*x**3 + 3*x**2 + 5*x + 3\n",
    "\n",
    "\n",
    "    # help us draw a fit line\n",
    "    fit = np.polyfit(x, y, 1)\n",
    "    fit_fn = np.poly1d(fit)\n",
    "    \n",
    "    \n",
    "    # get scatter range\n",
    "    y_val_range = np.ptp(y)\n",
    "    \n",
    "    \n",
    "    # add guassian/normal noise\n",
    "    y = [pt + np.random.normal(loc=0.0, scale=((1./10.)*y_val_range)) \n",
    "         for pt in y]\n",
    "\n",
    "    # line that we draw\n",
    "    fit_complexity_ = fit_complexity\n",
    "    regr = np.poly1d(np.polyfit(x, y, fit_complexity_))(np.unique)\n",
    "\n",
    "plot_scatter_fit(num_samps=50, fit_complexity=1, degree=1)"
   ]
  },
  {
   "cell_type": "code",
   "execution_count": null,
   "metadata": {},
   "outputs": [],
   "source": []
  },
  {
   "cell_type": "code",
   "execution_count": null,
   "metadata": {},
   "outputs": [],
   "source": []
  },
  {
   "cell_type": "code",
   "execution_count": null,
   "metadata": {},
   "outputs": [],
   "source": []
  },
  {
   "cell_type": "code",
   "execution_count": null,
   "metadata": {},
   "outputs": [],
   "source": []
  },
  {
   "cell_type": "code",
   "execution_count": null,
   "metadata": {},
   "outputs": [],
   "source": []
  },
  {
   "cell_type": "code",
   "execution_count": null,
   "metadata": {},
   "outputs": [],
   "source": []
  }
 ],
 "metadata": {
  "kernelspec": {
   "display_name": "Python 3",
   "language": "python",
   "name": "python3"
  },
  "language_info": {
   "codemirror_mode": {
    "name": "ipython",
    "version": 3
   },
   "file_extension": ".py",
   "mimetype": "text/x-python",
   "name": "python",
   "nbconvert_exporter": "python",
   "pygments_lexer": "ipython3",
   "version": "3.8.3"
  }
 },
 "nbformat": 4,
 "nbformat_minor": 4
}
